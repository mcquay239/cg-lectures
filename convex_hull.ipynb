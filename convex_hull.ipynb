{
 "cells": [
  {
   "cell_type": "markdown",
   "metadata": {
    "slideshow": {
     "slide_type": "slide"
    }
   },
   "source": [
    "## Швейцарский нож вычислительной геометрии: выпуклая оболочка\n",
    "\n",
    "Выпуклая оболочка $CH$ множества точек $P$ — минимальное по включению выпуклое множество, содержащее $P$."
   ]
  },
  {
   "cell_type": "markdown",
   "metadata": {
    "slideshow": {
     "slide_type": "slide"
    }
   },
   "source": [
    "### Выпуклая оболочка на плоскости"
   ]
  },
  {
   "cell_type": "code",
   "execution_count": 1,
   "metadata": {
    "collapsed": false,
    "slideshow": {
     "slide_type": "subslide"
    }
   },
   "outputs": [],
   "source": [
    "# %pylab inline\n",
    "\n",
    "import numpy as np\n",
    "import matplotlib.pyplot as plt\n",
    "\n",
    "from pyhull.convex_hull import ConvexHull\n",
    "\n",
    "X, Y = np.random.uniform(1, 9, size=(2, 30))\n",
    "ch = ConvexHull(np.transpose([X, Y]))\n",
    "\n",
    "plt.plot(X, Y, \"ro\")\n",
    "for v in ch.vertices:\n",
    "    plt.plot(X[v], Y[v], \"g\")\n",
    "    \n",
    "plt.axis([0, 10, 0, 10])\n",
    "plt.show()"
   ]
  },
  {
   "cell_type": "markdown",
   "metadata": {
    "slideshow": {
     "slide_type": "slide"
    }
   },
   "source": [
    "### Оболочка в 3D"
   ]
  },
  {
   "cell_type": "code",
   "execution_count": 2,
   "metadata": {
    "collapsed": false,
    "scrolled": true,
    "slideshow": {
     "slide_type": "subslide"
    }
   },
   "outputs": [],
   "source": [
    "import numpy as np\n",
    "from mpl_toolkits.mplot3d import Axes3D\n",
    "import matplotlib.pyplot as plt\n",
    "\n",
    "from pyhull.convex_hull import ConvexHull\n",
    "\n",
    "X, Y, Z = np.random.uniform(1, 9, size=(3, 30))\n",
    "ch = ConvexHull(np.transpose([X, Y, Z]))\n",
    "\n",
    "fig = plt.figure()\n",
    "ax = fig.add_subplot(111, projection='3d')\n",
    "\n",
    "ax.scatter(X, Y, Z, c='r')\n",
    "ax.plot_trisurf(X, Y, Z, alpha=0.1, triangles=ch.vertices)\n",
    "    \n",
    "plt.show()"
   ]
  },
  {
   "cell_type": "markdown",
   "metadata": {},
   "source": [
    "### Восстановление поверхностей\n",
    "\n",
    "Дано множество $P$ точек гладкой поверхности $S$. Как _триангулировать_ $P$ так, чтобы триангуляция была бы гомеоморфна исходной поверхности? "
   ]
  },
  {
   "cell_type": "code",
   "execution_count": 1,
   "metadata": {
    "collapsed": true
   },
   "outputs": [],
   "source": [
    "import numpy as np\n",
    "from mpl_toolkits.mplot3d import Axes3D\n",
    "import matplotlib.pyplot as plt\n",
    "\n",
    "with open(\"resources/bun_zipper_res4.off\") as inp:\n",
    "    inp.readline() # OFF\n",
    "    v, f, _ = map(int, inp.readline().split()) # vertices count, faces count, edges count\n",
    "    X, Y, Z = np.transpose([list(map(float, inp.readline().split())) for _ in range(v)]) # vertices\n",
    "    surface = [list(map(int, inp.readline().split()[1:])) for _ in range(f)] # edges\n",
    "    \n",
    "fig = plt.figure()\n",
    "ax = fig.add_subplot(121, projection='3d', aspect=\"equal\")\n",
    "ax.scatter(Z, X, Y, c='g')\n",
    "\n",
    "ax = fig.add_subplot(122, projection='3d', aspect=\"equal\")\n",
    "ax.plot_trisurf(Z, X, Y, triangles=surface, color='r', linewidth=1)\n",
    "\n",
    "plt.show()"
   ]
  },
  {
   "cell_type": "markdown",
   "metadata": {},
   "source": [
    "Один из самых простых для реализации алгоритмов: \"A simple algorithm for homeomorphic surface reconstruction\" за авторством N. Amenta, S. Choi, T.K. Dey и N. Leekha (2000)."
   ]
  },
  {
   "cell_type": "markdown",
   "metadata": {},
   "source": [
    "### Диаграмма Вороного"
   ]
  },
  {
   "cell_type": "markdown",
   "metadata": {},
   "source": [
    "Ячейка диаграммы Вороного для точки $p_i$ получается пересечением полуплоскостей, образованных серединными перпендикулярами пар точек $(p_i, p_j),\\space j \\ne i$."
   ]
  },
  {
   "cell_type": "code",
   "execution_count": 25,
   "metadata": {
    "collapsed": false
   },
   "outputs": [
    {
     "name": "stdout",
     "output_type": "stream",
     "text": [
      "3 74\n",
      "74 143\n",
      "80 74\n",
      "74 68\n",
      "74 106\n"
     ]
    }
   ],
   "source": [
    "import numpy as np\n",
    "import matplotlib.pyplot as plt\n",
    "from scipy.spatial import Voronoi, voronoi_plot_2d\n",
    "import matplotlib\n",
    "\n",
    "np.random.seed(239)\n",
    "points = np.random.rand(200,2)\n",
    "points[72] = (0, 0)\n",
    "\n",
    "vor = Voronoi(points)\n",
    "    \n",
    "ax = plt.subplot()\n",
    "voronoi_plot_2d(vor, ax, line_width=10, show_vertices=False, show_points=False)\n",
    "\n",
    "for region in vor.regions:\n",
    "    if not -1 in region:\n",
    "        polygon = [vor.vertices[i] for i in region]\n",
    "        plt.fill(*zip(*polygon), alpha=0.3)\n",
    "\n",
    "def plot_segment(ps, color='black', **kwargs):\n",
    "    ax.plot([p[0] for p in ps], \n",
    "            [p[1] for p in ps], color=color, **kwargs)\n",
    "\n",
    "size = 0.003\n",
    "min_x, min_y, max_x, max_y = 0.3, 0.3, 0.6, 0.6\n",
    "for (i, j), (va, vb) in vor.ridge_dict.items():\n",
    "    if -1 in vor.regions[vor.point_region[i]] + vor.regions[vor.point_region[j]]:\n",
    "        continue  # ignore infinite regions\n",
    "    pi, pj = points[i], points[j]\n",
    "#     if np.any(pi < [min_x, min_y]) or np.any(pi > [max_x, max_y])\\\n",
    "#         or np.any(pj < [min_x, min_y]) or np.any(pj > [max_x, max_y]):\n",
    "#         continue  # working only if both vertices are in ROI\n",
    "    if 74 not in (i, j):\n",
    "        continue\n",
    "    if 74 not in (i, j):\n",
    "        continue\n",
    "        \n",
    "    print(i, j)\n",
    "        \n",
    "    plot_segment([pi, pj], linestyle='-', linewidth=0.3)  # plotting line between vertices\n",
    "    m = (pi + pj) / 2\n",
    "    a = (pj - pi) / np.linalg.norm(pj - pi)\n",
    "    va, vb = vor.vertices[va], vor.vertices[vb]\n",
    "    b = (vb - va) / np.linalg.norm(vb - va)\n",
    "    if (np.linalg.norm(m - b*size - va) > np.linalg.norm(m + b*size - va)):\n",
    "        plot_segment([va, m - b*size], linestyle='-', linewidth=0.5)\n",
    "    else:\n",
    "        plot_segment([va, m + b*size], linestyle='-', linewidth=0.5)\n",
    "    plot_segment([m + b * size, m + b * size + a * size, m + a * size], linewidth=0.3)  # 90 degree angle\n",
    "    plot_segment([m - b * size, m - b * size - a * size, m - a * size], linewidth=0.3)  # 90 degree angle\n",
    "    c = np.random.rand(3, 1)\n",
    "    plot_segment([(pi + m) / 2 - b * size/2, (pi + m) / 2 + b * size/2], linewidth=3.0, color=c)  # equal segments stroke\n",
    "    plot_segment([(pj + m) / 2 - b * size/2, (pj + m) / 2 + b * size/2], linewidth=3.0, color=c)  # equal segments stroke\n",
    "\n",
    "ax.axis([min_x, max_x, min_y, max_y])\n",
    "plt.axis('off')\n",
    "ax.set_aspect('equal')\n",
    "plt.show()"
   ]
  },
  {
   "cell_type": "markdown",
   "metadata": {},
   "source": [
    "### Пересечение полуплоскостей\n",
    "\n",
    "Рассмотрим множество полуплоскостей, заданных нормалью $n$ и точкой $p$ на прямой, ограничивающей соответствующую полуплоскость (напомню неравенство для $i$-й полуплоскости: $n_i \\cdot (p - p_i) \\le 0$). Пусть пересечение полуплоскостей $CP$ непусто и нам известна точка $q \\in int(CP)$. Передвинем систему координат в точку $q$. Уравнения полуплоскостей изменятся на величину $n_i \\cdot p_i$, которая станет положительной для всех полуплоскостей, что позволит переписать все уравнения в виде $a_i x + b_i y + c_i \\ge 0, \\space c_i \\gt 0$. \n",
    "\n",
    "Полуплоскостям $(a_i, b_i, c_i)$ в исходном пространстве будут соответствовать точки $d_i = (\\frac{a_i}{c_i}, \\frac{b_i}{c_i})$ в _двойственном пространстве_. Построим в двойственном пространстве выпуклую оболочку $CH$ множества точек $\\{d_i\\} \\cup \\{0\\}$."
   ]
  },
  {
   "cell_type": "markdown",
   "metadata": {
    "slideshow": {
     "slide_type": "slide"
    }
   },
   "source": [
    "### Пересечение полуплоскостей (2)\n",
    "\n",
    "Рассмотрим множество полуплоскостей, заданных нормалью $n$ и точкой $p$ на прямой, ограничивающей соответствующую полуплоскость (напомню неравенство для $i$-й полуплоскости: $n_i \\cdot (p - p_i) \\le 0$). Потребуем, чтобы все нормали были ориентированы вертикально, то есть, чтобы $n_y \\gt 0$. Точка $(x,y)$ пересечения прямых, ограничивающих полуплоскости, является решением системы уравнений:\n",
    "\n",
    "$$\n",
    "\\left\\{\n",
    "    \\begin{array}{ll}\n",
    "        n_{1x} x + n_{1y} y = n_1 \\cdot p_1\\\\\n",
    "        n_{2x} x + n_{2y} y = n_2 \\cdot p_2\n",
    "    \\end{array}\n",
    "\\right.\n",
    "$$\n",
    "\n",
    "$$\n",
    "x = \\frac{\n",
    "    \\begin{vmatrix}\n",
    "    n_1 \\cdot p_1 && n_{1y} \\\\\n",
    "    n_2 \\cdot p_2 && n_{2y}\n",
    "    \\end{vmatrix}}{\n",
    "    \\begin{vmatrix}\n",
    "    n_{1x} && n_{1y} \\\\\n",
    "    n_{2x} && n_{2y} \n",
    "    \\end{vmatrix}}\\space\\space\\space\n",
    "y = \\frac{\n",
    "    \\begin{vmatrix}\n",
    "    n_{1y} && n_1 \\cdot p_1 \\\\\n",
    "    n_{2y} && n_2 \\cdot p_2\n",
    "    \\end{vmatrix}}{\n",
    "    \\begin{vmatrix}\n",
    "    n_{1x} && n_{1y} \\\\\n",
    "    n_{2x} && n_{2y} \n",
    "    \\end{vmatrix}}\n",
    "$$\n",
    "\n",
    "Заметим, что если нормали $n_1, n_3$ и $n_2$ упорядочены по повороту и точка пересечения прямых $l_1$ и $l_2$ лежит в полуплоскости $h_3$, то эту полуплоскость можно выкинуть из рассмотрения: вклад в пересечение полуплоскостей она не даёт. ![Пересекающиеся полуплоскости](images/intersecting_segments.svg) Это условие выражается формулой $n_{3x} x + n_{3y} y - n_3 \\cdot p_3 \\lt 0$. Упорядоченность по повороту даёт знак определителя\n",
    "\n",
    "$$\n",
    "\\begin{vmatrix}\n",
    "    n_{1x} && n_{1y} \\\\\n",
    "    n_{2x} && n_{2y} \n",
    "\\end{vmatrix} \\lt 0\n",
    "$$\n",
    "\n",
    "Домножим на него, получим\n",
    "\n",
    "$$\n",
    "n_{3x} \\begin{vmatrix} n_1 \\cdot p_1 && n_{1y} \\\\ n_2 \\cdot p_2 && n_{2y} \\end{vmatrix} + \n",
    "n_{3y} \\begin{vmatrix} n_{1y} && n_1 \\cdot p_1 \\\\ n_{2y} && n_2 \\cdot p_2 \\end{vmatrix} -\n",
    "n_3 \\cdot p_3 \\begin{vmatrix} n_{1x} && n_{1y} \\\\ n_{2x} && n_{2y} \\end{vmatrix} \\gt 0\n",
    "$$\n",
    "\n",
    "Что эквивалентно\n",
    "\n",
    "$$\n",
    "\\begin{vmatrix}\n",
    "    n_{1x} && n_1 \\cdot p_1 && n_{1y} \\\\\n",
    "    n_{2x} && n_2 \\cdot p_2 && n_{2y} \\\\\n",
    "    n_{3x} && n_3 \\cdot p_3 && n_{3y}\n",
    "\\end{vmatrix} \\gt 0\n",
    "$$\n",
    "\n",
    "Что эквивалентно проверке поворота в двойственном пространстве точек с _однородными координатами_ $(n_{ix}, n_i \\cdot p_i, n_{iy})$ или, после деления на $n_{iy}$:\n",
    "\n",
    "$$\n",
    "\\left(\\frac{n_{ix}}{n_{iy}}, \\frac{n_i \\cdot p_i}{n_{iy}}, 1\\right)\n",
    "$$\n",
    "\n",
    "Отметим, что точкам, упорядоченным по координате $x$ соответствуют полуплоскости, упорядоченные по повороту нормалей.\n",
    "\n",
    "Таким образом, _верхняя оболочка_ множества точек в двойственном пространстве даст последовательность полуплоскостей, составляющих границу пересечения."
   ]
  },
  {
   "cell_type": "code",
   "execution_count": null,
   "metadata": {
    "collapsed": false,
    "slideshow": {
     "slide_type": "subslide"
    }
   },
   "outputs": [],
   "source": [
    "import numpy as np\n",
    "from mpl_toolkits.mplot3d import Axes3D\n",
    "import matplotlib.pyplot as plt\n",
    "\n",
    "from pyhull.convex_hull import ConvexHull\n",
    "from math import sqrt\n",
    "\n",
    "\n",
    "def process_data(Nx, r):\n",
    "    Ny = np.ones(len(Nx)) - Nx**2\n",
    "    X, Y = r[:, 0], r[:, 1]\n",
    "\n",
    "    Xd, Yd = Nx / Ny, -(Nx * X + Ny * Y) / Ny\n",
    "\n",
    "    ch = ConvexHull(np.transpose([Xd, Yd]))\n",
    "\n",
    "    ax = plt.subplot(1, 2, 1, aspect=\"equal\")\n",
    "\n",
    "    for i, (x, y, nx, ny) in enumerate(zip(X, Y, Nx, Ny), 1):\n",
    "        ax.arrow(x, y, nx, ny, head_width=0.05, head_length=0.1, fc=\"k\", ec=\"k\")\n",
    "        ax.plot([x + ny * 100, x - ny * 100], \n",
    "                [y - nx * 100, y + nx * 100], \"g\", alpha=0.3)\n",
    "        ax.text(x, y, i)\n",
    "\n",
    "    ax.axis([0, 10, 0, 10])\n",
    "\n",
    "    ax = plt.subplot(1, 2, 2)\n",
    "\n",
    "    ax.plot(Xd, Yd, \"ro\")\n",
    "    for i, (x, y) in enumerate(zip(Xd, Yd), 1):\n",
    "        ax.text(x, y, i)\n",
    "\n",
    "    for v in ch.vertices:\n",
    "        if Xd[v[0]] > Xd[v[1]]:\n",
    "            ax.plot(Xd[v], Yd[v], \"g\")\n",
    "\n",
    "    plt.show()\n",
    "    \n",
    "process_data(np.array([-0.9, -0.5, -0.25, 0, 0.45, 0.8]), \n",
    "             np.array([[1, 2], [2, 4], [3, 6], [4, 5], [6, 4], [7, 3]]))\n",
    "\n",
    "npoints = 9\n",
    "np.random.seed(42)\n",
    "process_data(np.random.uniform(-1, 1, size=npoints),\n",
    "             np.random.uniform(1, 9, size=(npoints, 2)))\n"
   ]
  },
  {
   "cell_type": "markdown",
   "metadata": {},
   "source": [
    "### Пересечение полуплоскостей (3)\n",
    "\n",
    "В предыдущих разделах жестко использовался факт существования точки, принадлежащей пересечению полуплоскостей. Как получить пересечение полуплоскостей, используя только функцию, вычисляющую выпуклую оболочку?"
   ]
  },
  {
   "cell_type": "markdown",
   "metadata": {},
   "source": [
    "### Триангуляция Делоне на плоскости\n",
    "\n",
    "Рассмотрим _триангуляцию_ $T$ множества точек $P$. $T$ называется _триангуляцией Делоне_, если внутренность проведённого около любого треугольника $t \\in T$ круга $c$ не содержит точек из $P$. Сопоставим каждой точке $p \\in P$ точку $p' = (p_x, p_y, p^2)$ (спроецируем точки на параболоид). Из уравнения полупространства $n \\cdot (p - p_0) \\le 0$ и параболоида $z=x^2+y^2$ следует, что множество точек пересечения параболоида полупространством будет удовлетворять уравнению $ax+by+c(x^2+y^2)+d \\le 0$, что является уравнением круга $(p - p_0)^2 \\le r^2$ в случае, если нормаль к плоскости $n=(a, b, c)$ будет направлена вверх ($c \\gt 0$).\n",
    "\n",
    "Чему будет эквивалентна триангуляция Делоне?"
   ]
  },
  {
   "cell_type": "code",
   "execution_count": null,
   "metadata": {
    "collapsed": false
   },
   "outputs": [],
   "source": [
    "from mpl_toolkits.mplot3d import Axes3D\n",
    "from matplotlib import cm\n",
    "from matplotlib.ticker import LinearLocator, FormatStrFormatter\n",
    "import matplotlib.pyplot as plt\n",
    "import numpy as np\n",
    "\n",
    "fig = plt.figure()\n",
    "ax = fig.gca(projection='3d', aspect=\"equal\")\n",
    "X = np.arange(1, 9, 0.25)\n",
    "Y = np.arange(1, 9, 0.25)\n",
    "X, Y = np.meshgrid(X, Y)\n",
    "Z = X**2 + Y**2\n",
    "surf = ax.plot_surface(X, Y, Z, rstride=1, cstride=1, alpha=0.2, color=\"g\",\n",
    "                       linewidth=0, antialiased=False)\n",
    "ax.set_zlim(0, 200)\n",
    "ax.axis([0, 10, 0, 10])\n",
    "\n",
    "r = np.random.uniform(2, 8, size=(20, 2))\n",
    "X, Y = r[:, 0], r[:, 1]\n",
    "Z = X ** 2 + Y ** 2\n",
    "ax.scatter(X, Y, np.zeros(len(r)), c=\"r\", s=3)\n",
    "ax.scatter(X, Y, Z, c=\"b\", s=3)\n",
    "\n",
    "ch = ConvexHull(np.transpose([X, Y, Z]))\n",
    "triangles = [v for v in ch.vertices if np.linalg.det([X[v], Y[v], np.ones(3)]) > 0]\n",
    "ax.plot_trisurf(X, Y, Z, alpha=0.4, triangles=triangles, color=\"b\")\n",
    "ax.plot_trisurf(X, Y, np.zeros(len(r)), alpha=0.4, triangles=triangles, color=\"b\")\n",
    "\n",
    "for x, y in r:\n",
    "    ax.plot([x, x], [y, y], \"gray\", alpha=0.3, zs=[0, x**2 + y**2])\n",
    "\n",
    "plt.show()"
   ]
  },
  {
   "cell_type": "markdown",
   "metadata": {},
   "source": [
    "### Триангуляция Делоне в 3D"
   ]
  },
  {
   "cell_type": "code",
   "execution_count": null,
   "metadata": {
    "collapsed": false
   },
   "outputs": [],
   "source": [
    "from mpl_toolkits.mplot3d import Axes3D\n",
    "from matplotlib import cm\n",
    "from matplotlib.ticker import LinearLocator, FormatStrFormatter\n",
    "import matplotlib.pyplot as plt\n",
    "import numpy as np\n",
    "from math import pi\n",
    "from pyhull.convex_hull import ConvexHull\n",
    "\n",
    "np.random.seed(321)\n",
    "X, Y, Z = np.random.uniform(1, 9, size=(3, 15))\n",
    "W = X**2 + Y**2 + Z**2\n",
    "ch = ConvexHull(np.transpose([X, Y, Z, W]))\n",
    "\n",
    "fig = plt.figure()\n",
    "ax = fig.add_subplot(111, projection='3d', aspect=\"equal\")\n",
    "\n",
    "for v in ch.vertices:\n",
    "    if np.linalg.det([X[v], Y[v], Z[v], np.ones(4)]) < 0:\n",
    "        t = v + [v[1], v[0], v[2], v[0], v[3]]\n",
    "        ax.plot(X[t], Y[t], \"g\", zs=Z[t])\n",
    "\n",
    "ax.scatter(X, Y, Z, c=\"b\")\n",
    "\n",
    "ax.axis([0, 10, 0, 10])\n",
    "ax.set_zlim(0, 10)\n",
    "\n",
    "plt.show()"
   ]
  },
  {
   "cell_type": "markdown",
   "metadata": {},
   "source": [
    "### Триангуляция Делоне на сфере\n",
    "\n",
    "Аналогично введём триангуляцию Делоне на сфере. Рассмотрим множество точек $P$ на сфере $S$. Скажем, что _триангуляция_ множества точек $P$ является _триангуляцией Делоне_, если внутренность описанного около каждого треугольника $t$ _круга_ $c$ не содержит точек из $P$. Существование триангуляции Делоне следует из того, что окружность — это пересечение плоскости, а круг — это пересечение полупространства со сферой $S$."
   ]
  },
  {
   "cell_type": "code",
   "execution_count": null,
   "metadata": {
    "collapsed": false
   },
   "outputs": [],
   "source": [
    "from mpl_toolkits.mplot3d import Axes3D\n",
    "from matplotlib import cm\n",
    "from matplotlib.ticker import LinearLocator, FormatStrFormatter\n",
    "import matplotlib.pyplot as plt\n",
    "import numpy as np\n",
    "from math import pi\n",
    "from pyhull.convex_hull import ConvexHull\n",
    "\n",
    "fig = plt.figure()\n",
    "ax = fig.add_subplot(111, projection='3d', aspect=\"equal\")\n",
    "\n",
    "a, b, c, d = 0.5, 0.5, 0.5, 5\n",
    "x, y = np.transpose([[-10, -10], [-10, 10], [10, 10], [10, -10]])\n",
    "z = (d - a * x - b * y) / c\n",
    "ax.plot_trisurf(x, y, z, triangles=[[0, 1, 2], [0, 2, 3]], color='r', alpha=0.5, linewidth=0)\n",
    "\n",
    "u = np.linspace(0, 2 * np.pi, 100)\n",
    "v = np.linspace(0, np.pi, 100)\n",
    "\n",
    "x = 10 * np.outer(np.cos(u), np.sin(v))\n",
    "y = 10 * np.outer(np.sin(u), np.sin(v))\n",
    "z = 10 * np.outer(np.ones(np.size(u)), np.cos(v))\n",
    "ax.plot_surface(x, y, z, alpha=0.2, rstride=4, cstride=4, color='b', linewidth=0.5)\n",
    "\n",
    "ax.axis([-11, 11, -11, 11])\n",
    "ax.set_zlim(-11, 11)\n",
    "\n",
    "plt.show()"
   ]
  },
  {
   "cell_type": "markdown",
   "metadata": {},
   "source": [
    "Поэтому условие \"точка не лежит внутри круга $c$\" переформулируется как \"точка не лежит в полупространстве, пересекающем сферу $S$\". Чем является триангуляция Делоне в этом случае?"
   ]
  },
  {
   "cell_type": "code",
   "execution_count": null,
   "metadata": {
    "collapsed": false
   },
   "outputs": [],
   "source": [
    "from mpl_toolkits.mplot3d import Axes3D\n",
    "from matplotlib import cm\n",
    "from matplotlib.ticker import LinearLocator, FormatStrFormatter\n",
    "import matplotlib.pyplot as plt\n",
    "import numpy as np\n",
    "from math import pi\n",
    "from pyhull.convex_hull import ConvexHull\n",
    "\n",
    "fig = plt.figure()\n",
    "ax = fig.add_subplot(111, projection='3d', aspect=\"equal\")\n",
    "\n",
    "u = np.linspace(0, 2 * np.pi, 100)\n",
    "v = np.linspace(0, np.pi, 100)\n",
    "\n",
    "x = 10 * np.outer(np.cos(u), np.sin(v))\n",
    "y = 10 * np.outer(np.sin(u), np.sin(v))\n",
    "z = 10 * np.outer(np.ones(np.size(u)), np.cos(v))\n",
    "ax.plot_surface(x, y, z, alpha=0.2, rstride=4, cstride=4, color='b', linewidth=0)\n",
    "\n",
    "u, t = np.random.uniform(-1, 1, 120), np.random.uniform(0, 2*pi, 120)\n",
    "ones = np.ones(len(u))\n",
    "X = 10 * np.sqrt(ones - u ** 2) * np.cos(t)\n",
    "Y = 10 * np.sqrt(ones - u ** 2) * np.sin(t)\n",
    "Z = 10 * u\n",
    "\n",
    "ax.scatter(X, Y, Z, c=\"b\", s=3)\n",
    "\n",
    "ch = ConvexHull(np.transpose([X, Y, Z]))\n",
    "ax.plot_trisurf(X, Y, Z, alpha=0.9, triangles=ch.vertices)\n",
    "\n",
    "ax.axis([-11, 11, -11, 11])\n",
    "ax.set_zlim(-11, 11)\n",
    "\n",
    "plt.show()"
   ]
  }
 ],
 "metadata": {
  "celltoolbar": "Slideshow",
  "kernelspec": {
   "display_name": "Python 3",
   "language": "python",
   "name": "python3"
  },
  "language_info": {
   "codemirror_mode": {
    "name": "ipython",
    "version": 3
   },
   "file_extension": ".py",
   "mimetype": "text/x-python",
   "name": "python",
   "nbconvert_exporter": "python",
   "pygments_lexer": "ipython3",
   "version": "3.5.1"
  }
 },
 "nbformat": 4,
 "nbformat_minor": 0
}
